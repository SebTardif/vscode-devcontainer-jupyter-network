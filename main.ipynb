{
 "cells": [
  {
   "cell_type": "markdown",
   "id": "43c0c6f9",
   "metadata": {},
   "source": [
    "# 1_animal_game"
   ]
  },
  {
   "cell_type": "code",
   "execution_count": 31,
   "id": "9348d1c9",
   "metadata": {},
   "outputs": [],
   "source": [
    "class AnimalNode:\n",
    "    def __init__(self, question):\n",
    "        self.question = question\n",
    "        self.yes_child = None\n",
    "        self.no_child = None\n",
    "\n",
    "    # Return 'a' or 'an' as appropriate for this animal's name.\n",
    "    def article(self):\n",
    "        the_vowel = [\"a\",\"e\",\"i\",\"o\",\"u\"]\n",
    "        return \"an\" if self.question.lower() in the_vowel else \"a\"\n",
    "\n",
    "    # Return the animal's name with an article.\n",
    "    def full_name(self):\n",
    "        return self.article() + \" \" + self.question\n",
    "\n",
    "    # Return True if this is a leaf node (which represents an animal).\n",
    "    def is_leaf(self):\n",
    "        return self.no_child == None\n",
    "\n",
    "    # Ask this node's question and move to the appropriate child.\n",
    "    # Return True if we keep playing.\n",
    "    def ask_question(self):\n",
    "        user_input = input(\"Is it \"+self.full_name()+ \"?\")\n",
    "        next = self.yes_child if user_input==\"y\" else self.no_child if user_input==\"n\" else None\n",
    "        if next != None: next()"
   ]
  },
  {
   "cell_type": "code",
   "execution_count": 32,
   "id": "f5aa3f0e",
   "metadata": {},
   "outputs": [],
   "source": [
    "def play_game():\n",
    "    # Initialize the tree.\n",
    "    root = AnimalNode('platypus')\n",
    "\n",
    "    # Display instructions.\n",
    "    print('Answer y for Yes, n for No, and q for Quit\\n') \n",
    "\n",
    "    # Repeat until the user quits.\n",
    "    while root.ask_question():\n",
    "        pass"
   ]
  },
  {
   "cell_type": "code",
   "execution_count": 33,
   "id": "99ecfb3e",
   "metadata": {},
   "outputs": [
    {
     "name": "stdout",
     "output_type": "stream",
     "text": [
      "Answer y for Yes, n for No, and q for Quit\n",
      "\n"
     ]
    }
   ],
   "source": [
    "# Play.\n",
    "play_game()"
   ]
  }
 ],
 "metadata": {
  "kernelspec": {
   "display_name": "Python 3 (ipykernel)",
   "language": "python",
   "name": "python3"
  },
  "language_info": {
   "codemirror_mode": {
    "name": "ipython",
    "version": 3
   },
   "file_extension": ".py",
   "mimetype": "text/x-python",
   "name": "python",
   "nbconvert_exporter": "python",
   "pygments_lexer": "ipython3",
   "version": "3.11.6"
  }
 },
 "nbformat": 4,
 "nbformat_minor": 5
}
