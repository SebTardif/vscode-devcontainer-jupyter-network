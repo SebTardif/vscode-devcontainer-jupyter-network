{
 "cells": [
  {
   "cell_type": "markdown",
   "id": "43c0c6f9",
   "metadata": {},
   "source": [
    "# 1_animal_game"
   ]
  },
  {
   "cell_type": "code",
   "execution_count": 10,
   "id": "9348d1c9",
   "metadata": {},
   "outputs": [
    {
     "ename": "LoadError",
     "evalue": "syntax: extra token \"AnimalNode\" after end of expression",
     "output_type": "error",
     "traceback": [
      "syntax: extra token \"AnimalNode\" after end of expression",
      "",
      "Stacktrace:",
      " [1] top-level scope",
      "   @ In[10]:1"
     ]
    }
   ],
   "source": [
    "class AnimalNode:\n",
    "    def __init__(self, question):\n",
    "        self.question = question\n",
    "        self.yes_child = None\n",
    "        self.no_child = None\n",
    "\n",
    "    # Return 'a' or 'an' as appropriate for this animal's name.\n",
    "    def article(self):\n",
    "        the_vowel = [\"a\", \"e\", \"i\", \"o\", \"u\"]\n",
    "        return \"an\" if self.question.lower()[0] in the_vowel else \"a\"\n",
    "\n",
    "    # Return the animal's name with an article.\n",
    "    def full_name(self):\n",
    "        return self.article() + \" \" + self.question\n",
    "\n",
    "    # Return True if this is a leaf node (which represents an animal).\n",
    "    def is_leaf(self):\n",
    "        return self.no_child == None\n",
    "\n",
    "    def want_to_play_again(self):\n",
    "        user_input = input(\"Do you want to play again? y/n\")\n",
    "\n",
    "        return True if user_input == \"y\" else False\n",
    "\n",
    "    def handle_adding_new_animal(self):  # == Ostrish\n",
    "        user_input = input(\"What was your animal name?\")  # Tarantula\n",
    "        newAnimalNode = AnimalNode(user_input)\n",
    "        user_input = input(\n",
    "            \"What question can I ask to differentiate between a \"\n",
    "            + self.full_name()\n",
    "            + \" and \"\n",
    "            + newAnimalNode.full_name()\n",
    "            + \"?\"\n",
    "        )\n",
    "        newQuestionNode = AnimalNode(user_input)  # Feathered\n",
    "        user_input = input(self.full_name() + \" is \" + newQuestionNode.question())\n",
    "        if user_input == \"y\":\n",
    "            newQuestionNode.yes_child = self\n",
    "            newQuestionNode.no_child = newAnimalNode\n",
    "        else:\n",
    "            newQuestionNode.yes_child = newAnimalNode\n",
    "            newQuestionNode.no_child = self\n",
    "\n",
    "        global_root = newQuestionNode\n",
    "\n",
    "        self.want_to_play_again()\n",
    "\n",
    "    def handle_leaf(self):\n",
    "        user_input = input(\"Is it \" + self.full_name() + \"?\")\n",
    "\n",
    "        if user_input == \"y\":\n",
    "            print(\"Good Job!\\n\")\n",
    "        if user_input == \"n\":\n",
    "            print(\"You are wrong!\\n\")\n",
    "            self.handle_adding_new_animal()\n",
    "\n",
    "        return self.want_to_play_again()\n",
    "\n",
    "    def handle_not_leaf(self):\n",
    "        user_input = input(\"Does it has \" + self.full_name() + \"?\")\n",
    "\n",
    "        if user_input == \"y\":\n",
    "            return self.yes_child()\n",
    "        if user_input == \"n\":\n",
    "            return self.no_child()\n",
    "\n",
    "        return False\n",
    "\n",
    "    # Ask this node's question and move to the appropriate child.\n",
    "    # Return True if we keep playing.\n",
    "    def ask_question(self):\n",
    "        if self.is_leaf():\n",
    "            return self.handle_leaf()\n",
    "        else:\n",
    "            return self.handle_not_leaf()"
   ]
  },
  {
   "cell_type": "code",
   "execution_count": null,
   "id": "f5aa3f0e",
   "metadata": {},
   "outputs": [],
   "source": [
    "# Initialize the tree.\n",
    "global_root = AnimalNode(\"Ostrich\")\n",
    "\n",
    "\n",
    "def play_game():\n",
    "    # Display instructions.\n",
    "    print(\"Answer y for Yes, n for No, and q for Quit\\n\")\n",
    "\n",
    "    # Repeat until the user quits.\n",
    "    while global_root.ask_question():\n",
    "        pass"
   ]
  },
  {
   "cell_type": "code",
   "execution_count": null,
   "id": "99ecfb3e",
   "metadata": {
    "jupyter": {
     "source_hidden": true
    }
   },
   "outputs": [],
   "source": [
    "# Play.\n",
    "play_game()"
   ]
  }
 ],
 "metadata": {
  "kernelspec": {
   "display_name": "Julia 1.9.3",
   "language": "julia",
   "name": "julia-1.9"
  },
  "language_info": {
   "file_extension": ".jl",
   "mimetype": "application/julia",
   "name": "julia",
   "version": "1.9.3"
  }
 },
 "nbformat": 4,
 "nbformat_minor": 5
}
